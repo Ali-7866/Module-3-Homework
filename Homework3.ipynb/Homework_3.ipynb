{
 "cells": [
  {
   "cell_type": "code",
   "execution_count": 1,
   "metadata": {},
   "outputs": [
    {
     "name": "stdout",
     "output_type": "stream",
     "text": [
      "Election Results\n",
      "-------------------------\n",
      "Total Votes: 369711\n",
      "-------------------------\n",
      "Diana DeGette: 73.812% (272892)\n",
      "Charles Casper Stockham: 23.049% (85213)\n",
      "Raymon Anthony Doane: 3.139% (11606)\n",
      "-------------------------\n",
      "Winner: Diana DeGette\n",
      "-------------------------\n"
     ]
    }
   ],
   "source": [
    "import pandas as pd\n",
    "\n",
    "# Read the CSV file into a DataFrame\n",
    "df = pd.read_csv(\"homework3.csv\")\n",
    "\n",
    "# Calculate the total number of votes cast\n",
    "total_votes = len(df)\n",
    "\n",
    "# Get a complete list of candidates who received votes and calculate their vote counts\n",
    "candidate_votes = df[\"Candidate\"].value_counts()\n",
    "\n",
    "# Calculate the percentage of votes each candidate won\n",
    "percentage_votes = (candidate_votes / total_votes) * 100\n",
    "\n",
    "# Find the winner of the election based on popular vote\n",
    "winner = candidate_votes.idxmax()\n",
    "\n",
    "# Print the analysis results\n",
    "print(\"Election Results\")\n",
    "print(\"-------------------------\")\n",
    "print(f\"Total Votes: {total_votes}\")\n",
    "print(\"-------------------------\")\n",
    "for candidate, votes in candidate_votes.items():\n",
    "    print(f\"{candidate}: {percentage_votes[candidate]:.3f}% ({votes})\")\n",
    "print(\"-------------------------\")\n",
    "print(f\"Winner: {winner}\")\n",
    "print(\"-------------------------\")"
   ]
  }
 ],
 "metadata": {
  "kernelspec": {
   "display_name": "base",
   "language": "python",
   "name": "python3"
  },
  "language_info": {
   "codemirror_mode": {
    "name": "ipython",
    "version": 3
   },
   "file_extension": ".py",
   "mimetype": "text/x-python",
   "name": "python",
   "nbconvert_exporter": "python",
   "pygments_lexer": "ipython3",
   "version": "3.11.5"
  }
 },
 "nbformat": 4,
 "nbformat_minor": 2
}
