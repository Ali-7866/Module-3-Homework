{
 "cells": [
  {
   "cell_type": "code",
   "execution_count": 1,
   "metadata": {},
   "outputs": [
    {
     "ename": "FileNotFoundError",
     "evalue": "[Errno 2] No such file or directory: 'homework31.csv'",
     "output_type": "error",
     "traceback": [
      "\u001b[1;31m---------------------------------------------------------------------------\u001b[0m",
      "\u001b[1;31mFileNotFoundError\u001b[0m                         Traceback (most recent call last)",
      "Cell \u001b[1;32mIn[1], line 16\u001b[0m\n\u001b[0;32m     13\u001b[0m changes \u001b[38;5;241m=\u001b[39m []\n\u001b[0;32m     15\u001b[0m \u001b[38;5;66;03m# Read the CSV file\u001b[39;00m\n\u001b[1;32m---> 16\u001b[0m \u001b[38;5;28;01mwith\u001b[39;00m \u001b[38;5;28mopen\u001b[39m(file_path, newline\u001b[38;5;241m=\u001b[39m\u001b[38;5;124m\"\u001b[39m\u001b[38;5;124m\"\u001b[39m) \u001b[38;5;28;01mas\u001b[39;00m csvfile:\n\u001b[0;32m     17\u001b[0m     csvreader \u001b[38;5;241m=\u001b[39m csv\u001b[38;5;241m.\u001b[39mreader(csvfile, delimiter\u001b[38;5;241m=\u001b[39m\u001b[38;5;124m\"\u001b[39m\u001b[38;5;124m,\u001b[39m\u001b[38;5;124m\"\u001b[39m)\n\u001b[0;32m     19\u001b[0m     \u001b[38;5;66;03m# Skip the header\u001b[39;00m\n",
      "File \u001b[1;32mc:\\Users\\aliaq\\anaconda3\\Lib\\site-packages\\IPython\\core\\interactiveshell.py:286\u001b[0m, in \u001b[0;36m_modified_open\u001b[1;34m(file, *args, **kwargs)\u001b[0m\n\u001b[0;32m    279\u001b[0m \u001b[38;5;28;01mif\u001b[39;00m file \u001b[38;5;129;01min\u001b[39;00m {\u001b[38;5;241m0\u001b[39m, \u001b[38;5;241m1\u001b[39m, \u001b[38;5;241m2\u001b[39m}:\n\u001b[0;32m    280\u001b[0m     \u001b[38;5;28;01mraise\u001b[39;00m \u001b[38;5;167;01mValueError\u001b[39;00m(\n\u001b[0;32m    281\u001b[0m         \u001b[38;5;124mf\u001b[39m\u001b[38;5;124m\"\u001b[39m\u001b[38;5;124mIPython won\u001b[39m\u001b[38;5;124m'\u001b[39m\u001b[38;5;124mt let you open fd=\u001b[39m\u001b[38;5;132;01m{\u001b[39;00mfile\u001b[38;5;132;01m}\u001b[39;00m\u001b[38;5;124m by default \u001b[39m\u001b[38;5;124m\"\u001b[39m\n\u001b[0;32m    282\u001b[0m         \u001b[38;5;124m\"\u001b[39m\u001b[38;5;124mas it is likely to crash IPython. If you know what you are doing, \u001b[39m\u001b[38;5;124m\"\u001b[39m\n\u001b[0;32m    283\u001b[0m         \u001b[38;5;124m\"\u001b[39m\u001b[38;5;124myou can use builtins\u001b[39m\u001b[38;5;124m'\u001b[39m\u001b[38;5;124m open.\u001b[39m\u001b[38;5;124m\"\u001b[39m\n\u001b[0;32m    284\u001b[0m     )\n\u001b[1;32m--> 286\u001b[0m \u001b[38;5;28;01mreturn\u001b[39;00m io_open(file, \u001b[38;5;241m*\u001b[39margs, \u001b[38;5;241m*\u001b[39m\u001b[38;5;241m*\u001b[39mkwargs)\n",
      "\u001b[1;31mFileNotFoundError\u001b[0m: [Errno 2] No such file or directory: 'homework31.csv'"
     ]
    }
   ],
   "source": [
    "import csv\n",
    "\n",
    "# Define the file path\n",
    "file_path = \"homework31.csv\"\n",
    "\n",
    "# Initialize variables\n",
    "total_months = 0\n",
    "net_total = 0\n",
    "previous_profit_loss = None\n",
    "total_change = 0\n",
    "greatest_increase = {\"date\": None, \"amount\": float(\"-inf\")}\n",
    "greatest_decrease = {\"date\": None, \"amount\": float(\"inf\")}\n",
    "changes = []\n",
    "\n",
    "# Read the CSV file\n",
    "with open(file_path, newline=\"\") as csvfile:\n",
    "    csvreader = csv.reader(csvfile, delimiter=\",\")\n",
    "\n",
    "    # Skip the header\n",
    "    next(csvreader)\n",
    "\n",
    "    # Loop through each row in the CSV\n",
    "    for row in csvreader:\n",
    "        # Extract data from the row\n",
    "        date = row[0]\n",
    "        profit_loss = int(row[1])\n",
    "\n",
    "        # Increment total months\n",
    "        total_months += 1\n",
    "\n",
    "        # Add to net total\n",
    "        net_total += profit_loss\n",
    "\n",
    "        # Calculate change in profit/loss\n",
    "        if previous_profit_loss is not None:\n",
    "            change = profit_loss - previous_profit_loss\n",
    "            changes.append(change)\n",
    "            total_change += change\n",
    "\n",
    "            # Update greatest increase and decrease\n",
    "            if change > greatest_increase[\"amount\"]:\n",
    "                greatest_increase[\"date\"] = date\n",
    "                greatest_increase[\"amount\"] = change\n",
    "            if change < greatest_decrease[\"amount\"]:\n",
    "                greatest_decrease[\"date\"] = date\n",
    "                greatest_decrease[\"amount\"] = change\n",
    "\n",
    "        # Update previous profit/loss\n",
    "        previous_profit_loss = profit_loss\n",
    "\n",
    "# Calculate the average change\n",
    "average_change = total_change / (total_months - 1)\n",
    "\n",
    "# Print the analysis results\n",
    "print(\"Financial Analysis\")\n",
    "print(\"-------------------------\")\n",
    "print(f\"Total Months: {total_months}\")\n",
    "print(f\"Total: ${net_total}\")\n",
    "print(f\"Average Change: ${average_change:.2f}\")\n",
    "print(f\"Greatest Increase in Profits: {greatest_increase['date']} (${greatest_increase['amount']})\")\n",
    "print(f\"Greatest Decrease in Profits: {greatest_decrease['date']} (${greatest_decrease['amount']})\")\n"
   ]
  }
 ],
 "metadata": {
  "kernelspec": {
   "display_name": "base",
   "language": "python",
   "name": "python3"
  },
  "language_info": {
   "codemirror_mode": {
    "name": "ipython",
    "version": 3
   },
   "file_extension": ".py",
   "mimetype": "text/x-python",
   "name": "python",
   "nbconvert_exporter": "python",
   "pygments_lexer": "ipython3",
   "version": "3.11.5"
  }
 },
 "nbformat": 4,
 "nbformat_minor": 2
}
